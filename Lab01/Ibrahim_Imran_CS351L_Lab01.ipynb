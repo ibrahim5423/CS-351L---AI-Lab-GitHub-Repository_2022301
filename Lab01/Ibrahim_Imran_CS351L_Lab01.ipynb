{
  "nbformat": 4,
  "nbformat_minor": 0,
  "metadata": {
    "colab": {
      "provenance": []
    },
    "kernelspec": {
      "name": "python3",
      "display_name": "Python 3"
    },
    "language_info": {
      "name": "python"
    }
  },
  "cells": [
    {
      "cell_type": "markdown",
      "source": [
        "# 1. BFS Version (Breadth-First Search)\n",
        " The AI starts with a random guess and explores the number space in a breadth-first manner. It adds neighboring guesses (incrementing or decrementing by 1) to a queue and continues guessing outward until it finds the correct number.\n",
        "\n",
        "Key Points:\n",
        "Starts with a random guess.\n",
        "Uses a queue to explore both lower and higher guesses.\n",
        "Ensures that each number is guessed only once using a visited set.\n"
      ],
      "metadata": {
        "id": "zNafa_x4ykre"
      }
    },
    {
      "cell_type": "code",
      "execution_count": 3,
      "metadata": {
        "colab": {
          "base_uri": "https://localhost:8080/"
        },
        "id": "hioEYHxHxa8L",
        "outputId": "b32bbf55-3aa0-4fae-8c4b-580c2593b0b0"
      },
      "outputs": [
        {
          "output_type": "stream",
          "name": "stdout",
          "text": [
            "Think of a number between 1 and 100, and I (the AI) will try to guess it.\n",
            "AI's guess is: 7\n",
            "Enter 'h' if too high, 'l' if too low, or 'c' if correct: h\n",
            "AI's guess is: 3\n",
            "Enter 'h' if too high, 'l' if too low, or 'c' if correct: l\n",
            "AI's guess is: 6\n",
            "Enter 'h' if too high, 'l' if too low, or 'c' if correct: c\n",
            "I (AI) guessed the number in 3 attempts using BFS!\n"
          ]
        }
      ],
      "source": [
        "from collections import deque\n",
        "import random\n",
        "\n",
        "def bfs_number_guessing_game():\n",
        "    print(\"Think of a number between 1 and 100, and I (the AI) will try to guess it.\")\n",
        "\n",
        "    low, high = 1, 100\n",
        "    attempts = 0\n",
        "\n",
        "    # Create a list of possible numbers and shuffle it\n",
        "    possible_numbers = list(range(low, high + 1))\n",
        "    random.shuffle(possible_numbers)\n",
        "\n",
        "    # Initialize the queue with shuffled numbers\n",
        "    queue = deque(possible_numbers)\n",
        "\n",
        "    while queue:\n",
        "        guess = queue.popleft()  # BFS: Explore the numbers from left to right\n",
        "        attempts += 1\n",
        "\n",
        "        print(f\"AI's guess is: {guess}\")\n",
        "        feedback = input(\"Enter 'h' if too high, 'l' if too low, or 'c' if correct: \").lower()\n",
        "\n",
        "        if feedback == 'c':\n",
        "            print(f\"I (AI) guessed the number in {attempts} attempts using BFS!\")\n",
        "            return\n",
        "        elif feedback == 'h':\n",
        "            # Remove guesses that are too high\n",
        "            queue = deque([x for x in queue if x < guess])\n",
        "        elif feedback == 'l':\n",
        "            # Remove guesses that are too low\n",
        "            queue = deque([x for x in queue if x > guess])\n",
        "\n",
        "    print(\"Something went wrong!\")\n",
        "\n",
        "# Run the BFS version\n",
        "bfs_number_guessing_game()"
      ]
    },
    {
      "cell_type": "markdown",
      "source": [
        "# 2. DFS Version (Depth-First Search)\n",
        "\n",
        "The AI starts with a random guess and then explores deeply in one direction (either increasing or decreasing the guess). It keeps narrowing the search range recursively, focusing on one direction at a time until it finds the correct number.\n",
        "\n",
        "Key Points:\n",
        "Starts with a random guess.\n",
        "Uses recursive calls to explore guesses deeply in one direction.\n",
        "Narrows down the range of possible numbers by focusing on higher or lower numbers."
      ],
      "metadata": {
        "id": "yOZgKG3Yy22w"
      }
    },
    {
      "cell_type": "code",
      "source": [
        "import random\n",
        "\n",
        "def dfs_number_guessing_game():\n",
        "    print(\"Think of a number between 1 and 100, and I (the AI) will try to guess it.\")\n",
        "    low = 1\n",
        "    high = 100\n",
        "    attempts = 0\n",
        "\n",
        "    def dfs(low, high):\n",
        "        nonlocal attempts\n",
        "        if low > high:\n",
        "            return\n",
        "\n",
        "        guess = random.randint(low, high)\n",
        "        attempts += 1\n",
        "        print(f\"AI's guess is: {guess}\")\n",
        "        feedback = input(\"Enter 'h' if too high, 'l' if too low, or 'c' if correct: \").lower()\n",
        "\n",
        "        if feedback == 'c':\n",
        "            print(f\"I (AI) guessed the number in {attempts} attempts!\")\n",
        "            return True\n",
        "        elif feedback == 'h':\n",
        "            return dfs(low, guess - 1)  # Explore deeper in the lower range\n",
        "        elif feedback == 'l':\n",
        "            return dfs(guess + 1, high)  # Explore deeper in the upper range\n",
        "\n",
        "    if not dfs(low, high):\n",
        "        print(\"Something went wrong!\")\n",
        "\n",
        "# Run DFS version\n",
        "dfs_number_guessing_game()\n"
      ],
      "metadata": {
        "colab": {
          "base_uri": "https://localhost:8080/"
        },
        "id": "vtI1LXSty9pb",
        "outputId": "f11612c2-2801-48da-efda-eb36a4b1426d"
      },
      "execution_count": 4,
      "outputs": [
        {
          "output_type": "stream",
          "name": "stdout",
          "text": [
            "Think of a number between 1 and 100, and I (the AI) will try to guess it.\n",
            "AI's guess is: 83\n",
            "Enter 'h' if too high, 'l' if too low, or 'c' if correct: h\n",
            "AI's guess is: 80\n",
            "Enter 'h' if too high, 'l' if too low, or 'c' if correct: c\n",
            "I (AI) guessed the number in 2 attempts!\n"
          ]
        }
      ]
    },
    {
      "cell_type": "markdown",
      "source": [
        "# 3. Ternary Search Version\n",
        "\n",
        "The AI divides the range of possible numbers into three parts by calculating two midpoints. Based on the player's feedback, the AI eliminates one of the three sections and repeats the process until it finds the correct number.\n",
        "\n",
        "Key Points:\n",
        "Divides the range into three parts.\n",
        "Makes two guesses (at two midpoints) in each iteration.\n",
        "Reduces the search space more aggressively than binary search by focusing on one-third of the remaining range."
      ],
      "metadata": {
        "id": "-ZBHRzRszATf"
      }
    },
    {
      "cell_type": "code",
      "source": [
        "def ternary_search_number_guessing_game():\n",
        "    print(\"Think of a number between 1 and 100, and I (the AI) will try to guess it.\")\n",
        "\n",
        "    low, high = 1, 100\n",
        "    attempts = 0\n",
        "\n",
        "    # Loop until the AI guesses the number correctly\n",
        "    while low <= high:\n",
        "        # Divide the range into three parts\n",
        "        mid1 = low + (high - low) // 3\n",
        "        mid2 = high - (high - low) // 3\n",
        "        attempts += 1\n",
        "\n",
        "        # Make a guess in the first third\n",
        "        print(f\"AI's guess is: {mid1}\")\n",
        "        feedback = input(\"Enter 'h' if too high, 'l' if too low, or 'c' if correct: \").lower()\n",
        "\n",
        "        if feedback == 'c':\n",
        "            print(f\"I (AI) guessed the number in {attempts} attempts using Ternary Search!\")\n",
        "            return\n",
        "        elif feedback == 'h':\n",
        "            high = mid1 - 1  # Narrow down the range to the lower third\n",
        "        elif feedback == 'l':\n",
        "            # Make a guess in the second third if the first is too low\n",
        "            print(f\"AI's guess is: {mid2}\")\n",
        "            attempts += 1\n",
        "            feedback = input(\"Enter 'h' if too high, 'l' if too low, or 'c' if correct: \").lower()\n",
        "\n",
        "            if feedback == 'c':\n",
        "                print(f\"I (AI) guessed the number in {attempts} attempts using Ternary Search!\")\n",
        "                return\n",
        "            elif feedback == 'h':\n",
        "                high = mid2 - 1  # Narrow down to the middle third\n",
        "            elif feedback == 'l':\n",
        "                low = mid2 + 1  # Narrow down to the upper third\n",
        "\n",
        "    print(\"Something went wrong!\")\n",
        "\n",
        "# Run the Ternary Search version\n",
        "ternary_search_number_guessing_game()\n"
      ],
      "metadata": {
        "colab": {
          "base_uri": "https://localhost:8080/"
        },
        "id": "-_L-q_u-zGmT",
        "outputId": "7acd01c1-95a1-4de6-db86-ca667c150ecf"
      },
      "execution_count": 8,
      "outputs": [
        {
          "output_type": "stream",
          "name": "stdout",
          "text": [
            "Think of a number between 1 and 100, and I (the AI) will try to guess it.\n",
            "AI's guess is: 34\n",
            "Enter 'h' if too high, 'l' if too low, or 'c' if correct: l\n",
            "AI's guess is: 67\n",
            "Enter 'h' if too high, 'l' if too low, or 'c' if correct: h\n",
            "AI's guess is: 22\n",
            "Enter 'h' if too high, 'l' if too low, or 'c' if correct: l\n",
            "AI's guess is: 45\n",
            "Enter 'h' if too high, 'l' if too low, or 'c' if correct: h\n",
            "AI's guess is: 15\n",
            "Enter 'h' if too high, 'l' if too low, or 'c' if correct: l\n",
            "AI's guess is: 30\n",
            "Enter 'h' if too high, 'l' if too low, or 'c' if correct: c\n",
            "I (AI) guessed the number in 6 attempts using Ternary Search!\n"
          ]
        }
      ]
    }
  ]
}